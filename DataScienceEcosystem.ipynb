{
  "metadata": {
    "kernelspec": {
      "name": "python",
      "display_name": "Python (Pyodide)",
      "language": "python"
    },
    "language_info": {
      "codemirror_mode": {
        "name": "python",
        "version": 3
      },
      "file_extension": ".py",
      "mimetype": "text/x-python",
      "name": "python",
      "nbconvert_exporter": "python",
      "pygments_lexer": "ipython3",
      "version": "3.8"
    }
  },
  "nbformat_minor": 5,
  "nbformat": 4,
  "cells": [
    {
      "id": "4b84f9e1-85e7-4dfc-9a80-eb5ff08c2ff5",
      "cell_type": "markdown",
      "source": "##  Data Science Tools and Ecosystem",
      "metadata": {}
    },
    {
      "id": "70feefa4-b3fe-445c-b071-1ca812d8fc7d",
      "cell_type": "markdown",
      "source": "#### In this notebook, Data Science Tools and Ecosystem are summarized.",
      "metadata": {}
    },
    {
      "id": "79e375dd-69fe-484d-9e27-488e846619ce",
      "cell_type": "markdown",
      "source": "**Objectives:**\n- Popular languages used by Data Scientists\n- Commonly used libraries\n- Open Source Data Science Tools",
      "metadata": {}
    },
    {
      "id": "8d95ea8e-7e09-4e2b-9096-4abe125040fb",
      "cell_type": "markdown",
      "source": "Some of the popular languages that Data Scientists use are:\n1. Python\n2. R\n3. SQL\n4. Java\n5. Julia ",
      "metadata": {}
    },
    {
      "id": "f08a8c29-0274-4616-8bc6-1d341388cc70",
      "cell_type": "markdown",
      "source": "Some of the commonly used libraries used by Data Scientists include:\n1. NumPy\n2. Matplotlib\n3. SciPy\n4. TensorFlow\n5. Keras",
      "metadata": {}
    },
    {
      "id": "b0294b72-2aad-4f63-8d9e-3c135c1a25a6",
      "cell_type": "markdown",
      "source": "|Data Science Tools |\n| ------ |\n| Jupyter Notebook| \n| Apache Spark | \n| Tensor Flow | \n| Rstudio | \n| Apache Hadoop|\n",
      "metadata": {}
    },
    {
      "id": "21f9ba8d-e2c5-41fb-9b39-55a6b5e37fb6",
      "cell_type": "markdown",
      "source": "### Below are a few examples of evaluating arithmetic expressions in Python",
      "metadata": {}
    },
    {
      "id": "9460005f-b669-4452-8237-10bd74ea58aa",
      "cell_type": "code",
      "source": "# This a simple arithmetic expression to mutiply then add integers\n(3*4)+5\n",
      "metadata": {
        "trusted": true
      },
      "outputs": [
        {
          "execution_count": 3,
          "output_type": "execute_result",
          "data": {
            "text/plain": "17"
          },
          "metadata": {}
        }
      ],
      "execution_count": 3
    },
    {
      "id": "1e09dc9a-fe68-4972-931d-0377386e4711",
      "cell_type": "code",
      "source": "# This will convert 200 minutes to hours by diving by 60\n200/60",
      "metadata": {
        "trusted": true
      },
      "outputs": [
        {
          "execution_count": 4,
          "output_type": "execute_result",
          "data": {
            "text/plain": "3.3333333333333335"
          },
          "metadata": {}
        }
      ],
      "execution_count": 4
    },
    {
      "id": "afec653d-13e7-48e9-8e94-7932d02b17b4",
      "cell_type": "code",
      "source": "",
      "metadata": {
        "trusted": true
      },
      "outputs": [],
      "execution_count": null
    },
    {
      "id": "fbea2288-17a8-4eaf-98b2-cc938e5eb063",
      "cell_type": "markdown",
      "source": "## Author\nRajalakshmi T",
      "metadata": {}
    },
    {
      "id": "be293ab6-3999-49e4-86bc-6f23589707a2",
      "cell_type": "code",
      "source": "",
      "metadata": {
        "trusted": true
      },
      "outputs": [],
      "execution_count": null
    }
  ]
}